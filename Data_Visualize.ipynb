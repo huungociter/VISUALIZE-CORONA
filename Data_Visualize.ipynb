{
 "cells": [
  {
   "cell_type": "markdown",
   "id": "384d3a5a",
   "metadata": {},
   "source": [
    "# I. Import các thư viện cần thiết"
   ]
  },
  {
   "cell_type": "code",
   "execution_count": 185,
   "id": "d124461a",
   "metadata": {},
   "outputs": [],
   "source": [
    "import numpy as np\n",
    "import pandas as pd   \n",
    "import seaborn as sns\n",
    "import matplotlib.pyplot as plt"
   ]
  },
  {
   "cell_type": "markdown",
   "id": "7de13aa1",
   "metadata": {},
   "source": [
    "# II. Đọc Data vào Dataframe. Data được thu thập thủ công từ trang https://www.worldometers.info/coronavirus/ vào ngày 04/05/2022"
   ]
  },
  {
   "cell_type": "code",
   "execution_count": 186,
   "id": "aca671d1",
   "metadata": {},
   "outputs": [],
   "source": [
    "Data = pd.read_csv('Raw_data.csv',sep=';')"
   ]
  },
  {
   "cell_type": "code",
   "execution_count": 187,
   "id": "9937d7ac",
   "metadata": {},
   "outputs": [
    {
     "data": {
      "text/html": [
       "<div>\n",
       "<style scoped>\n",
       "    .dataframe tbody tr th:only-of-type {\n",
       "        vertical-align: middle;\n",
       "    }\n",
       "\n",
       "    .dataframe tbody tr th {\n",
       "        vertical-align: top;\n",
       "    }\n",
       "\n",
       "    .dataframe thead th {\n",
       "        text-align: right;\n",
       "    }\n",
       "</style>\n",
       "<table border=\"1\" class=\"dataframe\">\n",
       "  <thead>\n",
       "    <tr style=\"text-align: right;\">\n",
       "      <th></th>\n",
       "      <th>#</th>\n",
       "      <th>Country, Other</th>\n",
       "      <th>Total Cases</th>\n",
       "      <th>New Cases</th>\n",
       "      <th>Total Deaths</th>\n",
       "      <th>New Deaths</th>\n",
       "      <th>Total Recovered</th>\n",
       "      <th>New Recovered</th>\n",
       "      <th>Active Cases</th>\n",
       "      <th>Serious, Critical</th>\n",
       "      <th>Tot Cases/ 1M pop</th>\n",
       "      <th>Deaths/ 1M pop</th>\n",
       "      <th>Total Tests</th>\n",
       "      <th>Tests/1M pop</th>\n",
       "      <th>Population</th>\n",
       "    </tr>\n",
       "  </thead>\n",
       "  <tbody>\n",
       "    <tr>\n",
       "      <th>0</th>\n",
       "      <td>NaN</td>\n",
       "      <td>World</td>\n",
       "      <td>513,697,783</td>\n",
       "      <td>154,755</td>\n",
       "      <td>6,262,191</td>\n",
       "      <td>623.0</td>\n",
       "      <td>467,939,862</td>\n",
       "      <td>337,659</td>\n",
       "      <td>39,495,730</td>\n",
       "      <td>40,904</td>\n",
       "      <td>65,903</td>\n",
       "      <td>803.4</td>\n",
       "      <td>NaN</td>\n",
       "      <td>NaN</td>\n",
       "      <td>NaN</td>\n",
       "    </tr>\n",
       "    <tr>\n",
       "      <th>1</th>\n",
       "      <td>1.0</td>\n",
       "      <td>USA</td>\n",
       "      <td>83,356,490</td>\n",
       "      <td>71,798</td>\n",
       "      <td>1,023,513</td>\n",
       "      <td>305.0</td>\n",
       "      <td>80,836,418</td>\n",
       "      <td>38,675</td>\n",
       "      <td>1,496,559</td>\n",
       "      <td>1,655</td>\n",
       "      <td>249,149</td>\n",
       "      <td>3,059</td>\n",
       "      <td>1,008,201,262</td>\n",
       "      <td>3,013,472</td>\n",
       "      <td>334,564,690</td>\n",
       "    </tr>\n",
       "    <tr>\n",
       "      <th>2</th>\n",
       "      <td>2.0</td>\n",
       "      <td>India</td>\n",
       "      <td>43,091,299</td>\n",
       "      <td>2,898</td>\n",
       "      <td>523,92</td>\n",
       "      <td>NaN</td>\n",
       "      <td>42,544,689</td>\n",
       "      <td>NaN</td>\n",
       "      <td>22,69</td>\n",
       "      <td>698</td>\n",
       "      <td>30,672</td>\n",
       "      <td>373</td>\n",
       "      <td>838,628,250</td>\n",
       "      <td>596,93</td>\n",
       "      <td>1,404,902,630</td>\n",
       "    </tr>\n",
       "    <tr>\n",
       "      <th>3</th>\n",
       "      <td>3.0</td>\n",
       "      <td>Brazil</td>\n",
       "      <td>30,502,501</td>\n",
       "      <td>20,072</td>\n",
       "      <td>663,816</td>\n",
       "      <td>51.0</td>\n",
       "      <td>29,602,372</td>\n",
       "      <td>17,068</td>\n",
       "      <td>236,313</td>\n",
       "      <td>8,318</td>\n",
       "      <td>141,653</td>\n",
       "      <td>3,083</td>\n",
       "      <td>63,776,166</td>\n",
       "      <td>296,176</td>\n",
       "      <td>215,332,283</td>\n",
       "    </tr>\n",
       "    <tr>\n",
       "      <th>4</th>\n",
       "      <td>4.0</td>\n",
       "      <td>France</td>\n",
       "      <td>28,805,690</td>\n",
       "      <td>47,925</td>\n",
       "      <td>146,376</td>\n",
       "      <td>114.0</td>\n",
       "      <td>27,301,135</td>\n",
       "      <td>137,222</td>\n",
       "      <td>1,358,179</td>\n",
       "      <td>1,511</td>\n",
       "      <td>439,523</td>\n",
       "      <td>2,233</td>\n",
       "      <td>269,816,888</td>\n",
       "      <td>4,116,918</td>\n",
       "      <td>65,538,567</td>\n",
       "    </tr>\n",
       "    <tr>\n",
       "      <th>...</th>\n",
       "      <td>...</td>\n",
       "      <td>...</td>\n",
       "      <td>...</td>\n",
       "      <td>...</td>\n",
       "      <td>...</td>\n",
       "      <td>...</td>\n",
       "      <td>...</td>\n",
       "      <td>...</td>\n",
       "      <td>...</td>\n",
       "      <td>...</td>\n",
       "      <td>...</td>\n",
       "      <td>...</td>\n",
       "      <td>...</td>\n",
       "      <td>...</td>\n",
       "      <td>...</td>\n",
       "    </tr>\n",
       "    <tr>\n",
       "      <th>224</th>\n",
       "      <td>224.0</td>\n",
       "      <td>MS Zaandam</td>\n",
       "      <td>9</td>\n",
       "      <td>NaN</td>\n",
       "      <td>2</td>\n",
       "      <td>NaN</td>\n",
       "      <td>7</td>\n",
       "      <td>NaN</td>\n",
       "      <td>0</td>\n",
       "      <td>NaN</td>\n",
       "      <td>NaN</td>\n",
       "      <td>NaN</td>\n",
       "      <td>NaN</td>\n",
       "      <td>NaN</td>\n",
       "      <td>NaN</td>\n",
       "    </tr>\n",
       "    <tr>\n",
       "      <th>225</th>\n",
       "      <td>225.0</td>\n",
       "      <td>Niue</td>\n",
       "      <td>9</td>\n",
       "      <td>NaN</td>\n",
       "      <td>NaN</td>\n",
       "      <td>NaN</td>\n",
       "      <td>8</td>\n",
       "      <td>1</td>\n",
       "      <td>1</td>\n",
       "      <td>NaN</td>\n",
       "      <td>5,468</td>\n",
       "      <td>NaN</td>\n",
       "      <td>NaN</td>\n",
       "      <td>NaN</td>\n",
       "      <td>1,646</td>\n",
       "    </tr>\n",
       "    <tr>\n",
       "      <th>226</th>\n",
       "      <td>226.0</td>\n",
       "      <td>Micronesia</td>\n",
       "      <td>7</td>\n",
       "      <td>NaN</td>\n",
       "      <td>NaN</td>\n",
       "      <td>NaN</td>\n",
       "      <td>1</td>\n",
       "      <td>NaN</td>\n",
       "      <td>6</td>\n",
       "      <td>NaN</td>\n",
       "      <td>60</td>\n",
       "      <td>NaN</td>\n",
       "      <td>NaN</td>\n",
       "      <td>NaN</td>\n",
       "      <td>117,236</td>\n",
       "    </tr>\n",
       "    <tr>\n",
       "      <th>227</th>\n",
       "      <td>227.0</td>\n",
       "      <td>Nauru</td>\n",
       "      <td>5</td>\n",
       "      <td>NaN</td>\n",
       "      <td>NaN</td>\n",
       "      <td>NaN</td>\n",
       "      <td>3</td>\n",
       "      <td>NaN</td>\n",
       "      <td>2</td>\n",
       "      <td>NaN</td>\n",
       "      <td>457</td>\n",
       "      <td>NaN</td>\n",
       "      <td>NaN</td>\n",
       "      <td>NaN</td>\n",
       "      <td>10,949</td>\n",
       "    </tr>\n",
       "    <tr>\n",
       "      <th>228</th>\n",
       "      <td>228.0</td>\n",
       "      <td>Saint Helena</td>\n",
       "      <td>2</td>\n",
       "      <td>NaN</td>\n",
       "      <td>NaN</td>\n",
       "      <td>NaN</td>\n",
       "      <td>2</td>\n",
       "      <td>NaN</td>\n",
       "      <td>0</td>\n",
       "      <td>NaN</td>\n",
       "      <td>327</td>\n",
       "      <td>NaN</td>\n",
       "      <td>NaN</td>\n",
       "      <td>NaN</td>\n",
       "      <td>6,11</td>\n",
       "    </tr>\n",
       "  </tbody>\n",
       "</table>\n",
       "<p>229 rows × 15 columns</p>\n",
       "</div>"
      ],
      "text/plain": [
       "         # Country, Other  Total Cases New Cases Total Deaths  New Deaths  \\\n",
       "0      NaN          World  513,697,783   154,755    6,262,191       623.0   \n",
       "1      1.0            USA   83,356,490    71,798    1,023,513       305.0   \n",
       "2      2.0          India   43,091,299     2,898       523,92         NaN   \n",
       "3      3.0         Brazil   30,502,501    20,072      663,816        51.0   \n",
       "4      4.0         France   28,805,690    47,925      146,376       114.0   \n",
       "..     ...            ...          ...       ...          ...         ...   \n",
       "224  224.0     MS Zaandam            9       NaN            2         NaN   \n",
       "225  225.0           Niue            9       NaN          NaN         NaN   \n",
       "226  226.0     Micronesia            7       NaN          NaN         NaN   \n",
       "227  227.0          Nauru            5       NaN          NaN         NaN   \n",
       "228  228.0   Saint Helena            2       NaN          NaN         NaN   \n",
       "\n",
       "    Total Recovered New Recovered Active Cases Serious, Critical  \\\n",
       "0       467,939,862       337,659   39,495,730            40,904   \n",
       "1        80,836,418        38,675    1,496,559             1,655   \n",
       "2        42,544,689           NaN        22,69               698   \n",
       "3        29,602,372        17,068      236,313             8,318   \n",
       "4        27,301,135       137,222    1,358,179             1,511   \n",
       "..              ...           ...          ...               ...   \n",
       "224               7           NaN            0               NaN   \n",
       "225               8             1            1               NaN   \n",
       "226               1           NaN            6               NaN   \n",
       "227               3           NaN            2               NaN   \n",
       "228               2           NaN            0               NaN   \n",
       "\n",
       "    Tot Cases/ 1M pop Deaths/ 1M pop    Total Tests Tests/1M pop  \\\n",
       "0              65,903          803.4            NaN          NaN   \n",
       "1             249,149          3,059  1,008,201,262    3,013,472   \n",
       "2              30,672            373    838,628,250       596,93   \n",
       "3             141,653          3,083     63,776,166      296,176   \n",
       "4             439,523          2,233    269,816,888    4,116,918   \n",
       "..                ...            ...            ...          ...   \n",
       "224               NaN            NaN            NaN          NaN   \n",
       "225             5,468            NaN            NaN          NaN   \n",
       "226                60            NaN            NaN          NaN   \n",
       "227               457            NaN            NaN          NaN   \n",
       "228               327            NaN            NaN          NaN   \n",
       "\n",
       "        Population  \n",
       "0              NaN  \n",
       "1      334,564,690  \n",
       "2    1,404,902,630  \n",
       "3      215,332,283  \n",
       "4       65,538,567  \n",
       "..             ...  \n",
       "224            NaN  \n",
       "225          1,646  \n",
       "226        117,236  \n",
       "227         10,949  \n",
       "228           6,11  \n",
       "\n",
       "[229 rows x 15 columns]"
      ]
     },
     "execution_count": 187,
     "metadata": {},
     "output_type": "execute_result"
    }
   ],
   "source": [
    "Data"
   ]
  },
  {
   "cell_type": "markdown",
   "id": "2ca666df",
   "metadata": {},
   "source": [
    "# III. Tiền xử lí dữ liệu"
   ]
  },
  {
   "cell_type": "markdown",
   "id": "96df3c7b",
   "metadata": {},
   "source": [
    "Thay những dòng có giá trị NAN bằng 0, xóa một số cột không cần thiết và chuyển các số liệu về dạng có thể tính toán"
   ]
  },
  {
   "cell_type": "code",
   "execution_count": 188,
   "id": "7354c428",
   "metadata": {},
   "outputs": [],
   "source": [
    "def data_preprocessing(Data):\n",
    "    for col_name in Data:\n",
    "        temp = []     \n",
    "        for col in Data[col_name]:\n",
    "            col = str(col)\n",
    "            col = col.replace(',','')\n",
    "            try:   \n",
    "                col = int(col)\n",
    "            except:\n",
    "                pass\n",
    "            temp.append(col)\n",
    "        Data[col_name] = temp\n",
    "    return Data"
   ]
  },
  {
   "cell_type": "code",
   "execution_count": 189,
   "id": "5520d80c",
   "metadata": {},
   "outputs": [],
   "source": [
    "Data = Data.fillna(0)\n",
    "Data = data_preprocessing(Data) \n",
    "Data.drop(\"#\", axis=1, inplace=True)\n",
    "Data = Data.drop([0])\n",
    "Data.to_csv('Preprocess_Data.csv')"
   ]
  },
  {
   "cell_type": "code",
   "execution_count": 190,
   "id": "7ab7eacb",
   "metadata": {},
   "outputs": [
    {
     "data": {
      "text/html": [
       "<div>\n",
       "<style scoped>\n",
       "    .dataframe tbody tr th:only-of-type {\n",
       "        vertical-align: middle;\n",
       "    }\n",
       "\n",
       "    .dataframe tbody tr th {\n",
       "        vertical-align: top;\n",
       "    }\n",
       "\n",
       "    .dataframe thead th {\n",
       "        text-align: right;\n",
       "    }\n",
       "</style>\n",
       "<table border=\"1\" class=\"dataframe\">\n",
       "  <thead>\n",
       "    <tr style=\"text-align: right;\">\n",
       "      <th></th>\n",
       "      <th>Country, Other</th>\n",
       "      <th>Total Cases</th>\n",
       "      <th>New Cases</th>\n",
       "      <th>Total Deaths</th>\n",
       "      <th>New Deaths</th>\n",
       "      <th>Total Recovered</th>\n",
       "      <th>New Recovered</th>\n",
       "      <th>Active Cases</th>\n",
       "      <th>Serious, Critical</th>\n",
       "      <th>Tot Cases/ 1M pop</th>\n",
       "      <th>Deaths/ 1M pop</th>\n",
       "      <th>Total Tests</th>\n",
       "      <th>Tests/1M pop</th>\n",
       "      <th>Population</th>\n",
       "    </tr>\n",
       "  </thead>\n",
       "  <tbody>\n",
       "    <tr>\n",
       "      <th>1</th>\n",
       "      <td>USA</td>\n",
       "      <td>83356490</td>\n",
       "      <td>71798</td>\n",
       "      <td>1023513</td>\n",
       "      <td>305.0</td>\n",
       "      <td>80836418</td>\n",
       "      <td>38675</td>\n",
       "      <td>1496559</td>\n",
       "      <td>1655</td>\n",
       "      <td>249149</td>\n",
       "      <td>3059</td>\n",
       "      <td>1008201262</td>\n",
       "      <td>3013472</td>\n",
       "      <td>334564690</td>\n",
       "    </tr>\n",
       "    <tr>\n",
       "      <th>2</th>\n",
       "      <td>India</td>\n",
       "      <td>43091299</td>\n",
       "      <td>2898</td>\n",
       "      <td>52392</td>\n",
       "      <td>0.0</td>\n",
       "      <td>42544689</td>\n",
       "      <td>0</td>\n",
       "      <td>2269</td>\n",
       "      <td>698</td>\n",
       "      <td>30672</td>\n",
       "      <td>373</td>\n",
       "      <td>838628250</td>\n",
       "      <td>59693</td>\n",
       "      <td>1404902630</td>\n",
       "    </tr>\n",
       "    <tr>\n",
       "      <th>3</th>\n",
       "      <td>Brazil</td>\n",
       "      <td>30502501</td>\n",
       "      <td>20072</td>\n",
       "      <td>663816</td>\n",
       "      <td>51.0</td>\n",
       "      <td>29602372</td>\n",
       "      <td>17068</td>\n",
       "      <td>236313</td>\n",
       "      <td>8318</td>\n",
       "      <td>141653</td>\n",
       "      <td>3083</td>\n",
       "      <td>63776166</td>\n",
       "      <td>296176</td>\n",
       "      <td>215332283</td>\n",
       "    </tr>\n",
       "    <tr>\n",
       "      <th>4</th>\n",
       "      <td>France</td>\n",
       "      <td>28805690</td>\n",
       "      <td>47925</td>\n",
       "      <td>146376</td>\n",
       "      <td>114.0</td>\n",
       "      <td>27301135</td>\n",
       "      <td>137222</td>\n",
       "      <td>1358179</td>\n",
       "      <td>1511</td>\n",
       "      <td>439523</td>\n",
       "      <td>2233</td>\n",
       "      <td>269816888</td>\n",
       "      <td>4116918</td>\n",
       "      <td>65538567</td>\n",
       "    </tr>\n",
       "    <tr>\n",
       "      <th>5</th>\n",
       "      <td>Germany</td>\n",
       "      <td>25116363</td>\n",
       "      <td>16696</td>\n",
       "      <td>136405</td>\n",
       "      <td>222.0</td>\n",
       "      <td>22841300</td>\n",
       "      <td>1827</td>\n",
       "      <td>2138658</td>\n",
       "      <td>1446</td>\n",
       "      <td>298027</td>\n",
       "      <td>1619</td>\n",
       "      <td>122332384</td>\n",
       "      <td>1451576</td>\n",
       "      <td>84275579</td>\n",
       "    </tr>\n",
       "    <tr>\n",
       "      <th>...</th>\n",
       "      <td>...</td>\n",
       "      <td>...</td>\n",
       "      <td>...</td>\n",
       "      <td>...</td>\n",
       "      <td>...</td>\n",
       "      <td>...</td>\n",
       "      <td>...</td>\n",
       "      <td>...</td>\n",
       "      <td>...</td>\n",
       "      <td>...</td>\n",
       "      <td>...</td>\n",
       "      <td>...</td>\n",
       "      <td>...</td>\n",
       "      <td>...</td>\n",
       "    </tr>\n",
       "    <tr>\n",
       "      <th>224</th>\n",
       "      <td>MS Zaandam</td>\n",
       "      <td>9</td>\n",
       "      <td>0</td>\n",
       "      <td>2</td>\n",
       "      <td>0.0</td>\n",
       "      <td>7</td>\n",
       "      <td>0</td>\n",
       "      <td>0</td>\n",
       "      <td>0</td>\n",
       "      <td>0</td>\n",
       "      <td>0</td>\n",
       "      <td>0</td>\n",
       "      <td>0</td>\n",
       "      <td>0</td>\n",
       "    </tr>\n",
       "    <tr>\n",
       "      <th>225</th>\n",
       "      <td>Niue</td>\n",
       "      <td>9</td>\n",
       "      <td>0</td>\n",
       "      <td>0</td>\n",
       "      <td>0.0</td>\n",
       "      <td>8</td>\n",
       "      <td>1</td>\n",
       "      <td>1</td>\n",
       "      <td>0</td>\n",
       "      <td>5468</td>\n",
       "      <td>0</td>\n",
       "      <td>0</td>\n",
       "      <td>0</td>\n",
       "      <td>1646</td>\n",
       "    </tr>\n",
       "    <tr>\n",
       "      <th>226</th>\n",
       "      <td>Micronesia</td>\n",
       "      <td>7</td>\n",
       "      <td>0</td>\n",
       "      <td>0</td>\n",
       "      <td>0.0</td>\n",
       "      <td>1</td>\n",
       "      <td>0</td>\n",
       "      <td>6</td>\n",
       "      <td>0</td>\n",
       "      <td>60</td>\n",
       "      <td>0</td>\n",
       "      <td>0</td>\n",
       "      <td>0</td>\n",
       "      <td>117236</td>\n",
       "    </tr>\n",
       "    <tr>\n",
       "      <th>227</th>\n",
       "      <td>Nauru</td>\n",
       "      <td>5</td>\n",
       "      <td>0</td>\n",
       "      <td>0</td>\n",
       "      <td>0.0</td>\n",
       "      <td>3</td>\n",
       "      <td>0</td>\n",
       "      <td>2</td>\n",
       "      <td>0</td>\n",
       "      <td>457</td>\n",
       "      <td>0</td>\n",
       "      <td>0</td>\n",
       "      <td>0</td>\n",
       "      <td>10949</td>\n",
       "    </tr>\n",
       "    <tr>\n",
       "      <th>228</th>\n",
       "      <td>Saint Helena</td>\n",
       "      <td>2</td>\n",
       "      <td>0</td>\n",
       "      <td>0</td>\n",
       "      <td>0.0</td>\n",
       "      <td>2</td>\n",
       "      <td>0</td>\n",
       "      <td>0</td>\n",
       "      <td>0</td>\n",
       "      <td>327</td>\n",
       "      <td>0</td>\n",
       "      <td>0</td>\n",
       "      <td>0</td>\n",
       "      <td>611</td>\n",
       "    </tr>\n",
       "  </tbody>\n",
       "</table>\n",
       "<p>228 rows × 14 columns</p>\n",
       "</div>"
      ],
      "text/plain": [
       "    Country, Other  Total Cases  New Cases  Total Deaths New Deaths  \\\n",
       "1              USA     83356490      71798       1023513      305.0   \n",
       "2            India     43091299       2898         52392        0.0   \n",
       "3           Brazil     30502501      20072        663816       51.0   \n",
       "4           France     28805690      47925        146376      114.0   \n",
       "5          Germany     25116363      16696        136405      222.0   \n",
       "..             ...          ...        ...           ...        ...   \n",
       "224     MS Zaandam            9          0             2        0.0   \n",
       "225           Niue            9          0             0        0.0   \n",
       "226     Micronesia            7          0             0        0.0   \n",
       "227          Nauru            5          0             0        0.0   \n",
       "228   Saint Helena            2          0             0        0.0   \n",
       "\n",
       "     Total Recovered  New Recovered  Active Cases  Serious, Critical  \\\n",
       "1           80836418          38675       1496559               1655   \n",
       "2           42544689              0          2269                698   \n",
       "3           29602372          17068        236313               8318   \n",
       "4           27301135         137222       1358179               1511   \n",
       "5           22841300           1827       2138658               1446   \n",
       "..               ...            ...           ...                ...   \n",
       "224                7              0             0                  0   \n",
       "225                8              1             1                  0   \n",
       "226                1              0             6                  0   \n",
       "227                3              0             2                  0   \n",
       "228                2              0             0                  0   \n",
       "\n",
       "     Tot Cases/ 1M pop Deaths/ 1M pop  Total Tests  Tests/1M pop  Population  \n",
       "1               249149           3059   1008201262       3013472   334564690  \n",
       "2                30672            373    838628250         59693  1404902630  \n",
       "3               141653           3083     63776166        296176   215332283  \n",
       "4               439523           2233    269816888       4116918    65538567  \n",
       "5               298027           1619    122332384       1451576    84275579  \n",
       "..                 ...            ...          ...           ...         ...  \n",
       "224                  0              0            0             0           0  \n",
       "225               5468              0            0             0        1646  \n",
       "226                 60              0            0             0      117236  \n",
       "227                457              0            0             0       10949  \n",
       "228                327              0            0             0         611  \n",
       "\n",
       "[228 rows x 14 columns]"
      ]
     },
     "execution_count": 190,
     "metadata": {},
     "output_type": "execute_result"
    }
   ],
   "source": [
    "Data"
   ]
  },
  {
   "cell_type": "markdown",
   "id": "33abcc0d",
   "metadata": {},
   "source": [
    "# IV. Trực quan hóa với các mô hình"
   ]
  },
  {
   "cell_type": "markdown",
   "id": "dac6dd13",
   "metadata": {},
   "source": [
    "## 1. Top 20 quốc gia có nhiều ca nhiễm nhất.\n",
    "(Trường được chọn: \"New Case\")"
   ]
  },
  {
   "cell_type": "code",
   "execution_count": 191,
   "id": "2da6af0d",
   "metadata": {},
   "outputs": [
    {
     "data": {
      "image/png": "[encoded data removed]",
      "text/plain": [
       "<Figure size 432x288 with 1 Axes>"
      ]
     },
     "metadata": {
      "needs_background": "light"
     },
     "output_type": "display_data"
    }
   ],
   "source": [
    "copy_Data = Data.set_index('Country, Other')\n",
    "NewCase_df = copy_Data.drop(copy_Data[copy_Data['New Cases'] == 0].index)\n",
    "NewCase_df = NewCase_df['New Cases']\n",
    "NewCase_df = NewCase_df.to_frame().sort_values(by = 'New Cases',ascending = True)\n",
    "barh = NewCase_df.head(20).plot.barh(color = 'green')"
   ]
  },
  {
   "cell_type": "markdown",
   "id": "3d7ffff9",
   "metadata": {},
   "source": [
    "## 2. Tỉ lệ người dân ở mỗi quốc gia được test"
   ]
  },
  {
   "cell_type": "code",
   "execution_count": 192,
   "id": "2a9a7bed",
   "metadata": {},
   "outputs": [
    {
     "data": {
      "image/png": "[encoded data removed]",
      "text/plain": [
       "<Figure size 432x288 with 1 Axes>"
      ]
     },
     "metadata": {
      "needs_background": "light"
     },
     "output_type": "display_data"
    }
   ],
   "source": [
    "sns.regplot(x=\"Total Tests\",y=\"Population\",data=Data);"
   ]
  },
  {
   "cell_type": "markdown",
   "id": "bc6cb7f0",
   "metadata": {},
   "source": [
    "- Nhìn vào biểu đồ ta thấy được những nước có dân số ít tỉ lệ được test của người dân càng nhiều. Tuy nhiên ở đây ta thấy có một số bất thường outlier mặc dù có dân số cao nhưng tỉ lệ người dân được test thấp.Ta sẽ tìm hiểu thêm về outlier này"
   ]
  },
  {
   "cell_type": "code",
   "execution_count": 193,
   "id": "11a86e39",
   "metadata": {},
   "outputs": [
    {
     "data": {
      "text/html": [
       "<div>\n",
       "<style scoped>\n",
       "    .dataframe tbody tr th:only-of-type {\n",
       "        vertical-align: middle;\n",
       "    }\n",
       "\n",
       "    .dataframe tbody tr th {\n",
       "        vertical-align: top;\n",
       "    }\n",
       "\n",
       "    .dataframe thead th {\n",
       "        text-align: right;\n",
       "    }\n",
       "</style>\n",
       "<table border=\"1\" class=\"dataframe\">\n",
       "  <thead>\n",
       "    <tr style=\"text-align: right;\">\n",
       "      <th></th>\n",
       "      <th>Country, Other</th>\n",
       "      <th>Total Cases</th>\n",
       "      <th>New Cases</th>\n",
       "      <th>Total Deaths</th>\n",
       "      <th>New Deaths</th>\n",
       "      <th>Total Recovered</th>\n",
       "      <th>New Recovered</th>\n",
       "      <th>Active Cases</th>\n",
       "      <th>Serious, Critical</th>\n",
       "      <th>Tot Cases/ 1M pop</th>\n",
       "      <th>Deaths/ 1M pop</th>\n",
       "      <th>Total Tests</th>\n",
       "      <th>Tests/1M pop</th>\n",
       "      <th>Population</th>\n",
       "    </tr>\n",
       "  </thead>\n",
       "  <tbody>\n",
       "    <tr>\n",
       "      <th>108</th>\n",
       "      <td>China</td>\n",
       "      <td>218198</td>\n",
       "      <td>362</td>\n",
       "      <td>5128</td>\n",
       "      <td>16.0</td>\n",
       "      <td>19855</td>\n",
       "      <td>2092</td>\n",
       "      <td>1452</td>\n",
       "      <td>620</td>\n",
       "      <td>152</td>\n",
       "      <td>4</td>\n",
       "      <td>160000000</td>\n",
       "      <td>111163</td>\n",
       "      <td>1439323776</td>\n",
       "    </tr>\n",
       "    <tr>\n",
       "      <th>2</th>\n",
       "      <td>India</td>\n",
       "      <td>43091299</td>\n",
       "      <td>2898</td>\n",
       "      <td>52392</td>\n",
       "      <td>0.0</td>\n",
       "      <td>42544689</td>\n",
       "      <td>0</td>\n",
       "      <td>2269</td>\n",
       "      <td>698</td>\n",
       "      <td>30672</td>\n",
       "      <td>373</td>\n",
       "      <td>838628250</td>\n",
       "      <td>59693</td>\n",
       "      <td>1404902630</td>\n",
       "    </tr>\n",
       "    <tr>\n",
       "      <th>1</th>\n",
       "      <td>USA</td>\n",
       "      <td>83356490</td>\n",
       "      <td>71798</td>\n",
       "      <td>1023513</td>\n",
       "      <td>305.0</td>\n",
       "      <td>80836418</td>\n",
       "      <td>38675</td>\n",
       "      <td>1496559</td>\n",
       "      <td>1655</td>\n",
       "      <td>249149</td>\n",
       "      <td>3059</td>\n",
       "      <td>1008201262</td>\n",
       "      <td>3013472</td>\n",
       "      <td>334564690</td>\n",
       "    </tr>\n",
       "    <tr>\n",
       "      <th>19</th>\n",
       "      <td>Indonesia</td>\n",
       "      <td>6047491</td>\n",
       "      <td>176</td>\n",
       "      <td>156321</td>\n",
       "      <td>16.0</td>\n",
       "      <td>5884325</td>\n",
       "      <td>266</td>\n",
       "      <td>6845</td>\n",
       "      <td>2771</td>\n",
       "      <td>21689</td>\n",
       "      <td>561</td>\n",
       "      <td>95739932</td>\n",
       "      <td>343361</td>\n",
       "      <td>278831339</td>\n",
       "    </tr>\n",
       "    <tr>\n",
       "      <th>47</th>\n",
       "      <td>Pakistan</td>\n",
       "      <td>1528603</td>\n",
       "      <td>39</td>\n",
       "      <td>30372</td>\n",
       "      <td>0.0</td>\n",
       "      <td>1494141</td>\n",
       "      <td>0</td>\n",
       "      <td>409</td>\n",
       "      <td>108</td>\n",
       "      <td>6682</td>\n",
       "      <td>133</td>\n",
       "      <td>28212367</td>\n",
       "      <td>123327</td>\n",
       "      <td>228761407</td>\n",
       "    </tr>\n",
       "    <tr>\n",
       "      <th>...</th>\n",
       "      <td>...</td>\n",
       "      <td>...</td>\n",
       "      <td>...</td>\n",
       "      <td>...</td>\n",
       "      <td>...</td>\n",
       "      <td>...</td>\n",
       "      <td>...</td>\n",
       "      <td>...</td>\n",
       "      <td>...</td>\n",
       "      <td>...</td>\n",
       "      <td>...</td>\n",
       "      <td>...</td>\n",
       "      <td>...</td>\n",
       "      <td>...</td>\n",
       "    </tr>\n",
       "    <tr>\n",
       "      <th>221</th>\n",
       "      <td>Vatican City</td>\n",
       "      <td>29</td>\n",
       "      <td>0</td>\n",
       "      <td>0</td>\n",
       "      <td>0.0</td>\n",
       "      <td>29</td>\n",
       "      <td>0</td>\n",
       "      <td>0</td>\n",
       "      <td>0</td>\n",
       "      <td>36025</td>\n",
       "      <td>0</td>\n",
       "      <td>0</td>\n",
       "      <td>0</td>\n",
       "      <td>805</td>\n",
       "    </tr>\n",
       "    <tr>\n",
       "      <th>228</th>\n",
       "      <td>Saint Helena</td>\n",
       "      <td>2</td>\n",
       "      <td>0</td>\n",
       "      <td>0</td>\n",
       "      <td>0.0</td>\n",
       "      <td>2</td>\n",
       "      <td>0</td>\n",
       "      <td>0</td>\n",
       "      <td>0</td>\n",
       "      <td>327</td>\n",
       "      <td>0</td>\n",
       "      <td>0</td>\n",
       "      <td>0</td>\n",
       "      <td>611</td>\n",
       "    </tr>\n",
       "    <tr>\n",
       "      <th>206</th>\n",
       "      <td>British Virgin Islands</td>\n",
       "      <td>6355</td>\n",
       "      <td>0</td>\n",
       "      <td>62</td>\n",
       "      <td>0.0</td>\n",
       "      <td>0</td>\n",
       "      <td>0</td>\n",
       "      <td>0</td>\n",
       "      <td>1</td>\n",
       "      <td>20768</td>\n",
       "      <td>2026</td>\n",
       "      <td>103049</td>\n",
       "      <td>3367614</td>\n",
       "      <td>306</td>\n",
       "    </tr>\n",
       "    <tr>\n",
       "      <th>216</th>\n",
       "      <td>Diamond Princess</td>\n",
       "      <td>712</td>\n",
       "      <td>0</td>\n",
       "      <td>13</td>\n",
       "      <td>0.0</td>\n",
       "      <td>699</td>\n",
       "      <td>0</td>\n",
       "      <td>0</td>\n",
       "      <td>0</td>\n",
       "      <td>0</td>\n",
       "      <td>0</td>\n",
       "      <td>0</td>\n",
       "      <td>0</td>\n",
       "      <td>0</td>\n",
       "    </tr>\n",
       "    <tr>\n",
       "      <th>224</th>\n",
       "      <td>MS Zaandam</td>\n",
       "      <td>9</td>\n",
       "      <td>0</td>\n",
       "      <td>2</td>\n",
       "      <td>0.0</td>\n",
       "      <td>7</td>\n",
       "      <td>0</td>\n",
       "      <td>0</td>\n",
       "      <td>0</td>\n",
       "      <td>0</td>\n",
       "      <td>0</td>\n",
       "      <td>0</td>\n",
       "      <td>0</td>\n",
       "      <td>0</td>\n",
       "    </tr>\n",
       "  </tbody>\n",
       "</table>\n",
       "<p>228 rows × 14 columns</p>\n",
       "</div>"
      ],
      "text/plain": [
       "             Country, Other  Total Cases  New Cases  Total Deaths New Deaths  \\\n",
       "108                   China       218198        362          5128       16.0   \n",
       "2                     India     43091299       2898         52392        0.0   \n",
       "1                       USA     83356490      71798       1023513      305.0   \n",
       "19                Indonesia      6047491        176        156321       16.0   \n",
       "47                 Pakistan      1528603         39         30372        0.0   \n",
       "..                      ...          ...        ...           ...        ...   \n",
       "221            Vatican City           29          0             0        0.0   \n",
       "228            Saint Helena            2          0             0        0.0   \n",
       "206  British Virgin Islands         6355          0            62        0.0   \n",
       "216        Diamond Princess          712          0            13        0.0   \n",
       "224              MS Zaandam            9          0             2        0.0   \n",
       "\n",
       "     Total Recovered  New Recovered  Active Cases  Serious, Critical  \\\n",
       "108            19855           2092          1452                620   \n",
       "2           42544689              0          2269                698   \n",
       "1           80836418          38675       1496559               1655   \n",
       "19           5884325            266          6845               2771   \n",
       "47           1494141              0           409                108   \n",
       "..               ...            ...           ...                ...   \n",
       "221               29              0             0                  0   \n",
       "228                2              0             0                  0   \n",
       "206                0              0             0                  1   \n",
       "216              699              0             0                  0   \n",
       "224                7              0             0                  0   \n",
       "\n",
       "     Tot Cases/ 1M pop Deaths/ 1M pop  Total Tests  Tests/1M pop  Population  \n",
       "108                152              4    160000000        111163  1439323776  \n",
       "2                30672            373    838628250         59693  1404902630  \n",
       "1               249149           3059   1008201262       3013472   334564690  \n",
       "19               21689            561     95739932        343361   278831339  \n",
       "47                6682            133     28212367        123327   228761407  \n",
       "..                 ...            ...          ...           ...         ...  \n",
       "221              36025              0            0             0         805  \n",
       "228                327              0            0             0         611  \n",
       "206              20768           2026       103049       3367614         306  \n",
       "216                  0              0            0             0           0  \n",
       "224                  0              0            0             0           0  \n",
       "\n",
       "[228 rows x 14 columns]"
      ]
     },
     "execution_count": 193,
     "metadata": {},
     "output_type": "execute_result"
    }
   ],
   "source": [
    "Datasort_df = Data.sort_values(by=['Population'], ascending=False)\n",
    "Datasort_df"
   ]
  },
  {
   "cell_type": "markdown",
   "id": "0052ea45",
   "metadata": {},
   "source": [
    "- Nhìn vào dataframe đã được sort ta thấy China mặc dù có dân số cao nhất nhưng tỉ lệ người dân được test thấp xấp xỉ 11%. Trong khi đó nước India có dân số tương đương nhưng tỉ lệ test cao xấp xỉ 60%. Có thể do China không cập nhật đủ số liệu hoặc cố ý cập nhật không chính xác."
   ]
  },
  {
   "cell_type": "markdown",
   "id": "e1f03443",
   "metadata": {},
   "source": [
    "## 3. Khả năng được chữa khỏi của người dân ở các nước khác nhau"
   ]
  },
  {
   "cell_type": "code",
   "execution_count": 194,
   "id": "55f96196",
   "metadata": {},
   "outputs": [
    {
     "data": {
      "image/png": "[encoded data removed]",
      "text/plain": [
       "<Figure size 432x288 with 1 Axes>"
      ]
     },
     "metadata": {
      "needs_background": "light"
     },
     "output_type": "display_data"
    }
   ],
   "source": [
    "Recover_df = Data[['Total Cases','Total Recovered']]\n",
    "Recover_df = Recover_df.drop(Recover_df[Recover_df['Total Cases'] == 0 ].index)\n",
    "Recover_df = Recover_df.drop(Recover_df[Recover_df['Total Recovered'] == 0 ].index)\n",
    "Recover_df['Percent'] = (Recover_df['Total Recovered']/ Recover_df['Total Cases'])*100\n",
    "Recover_df.drop(\"Total Cases\", axis=1, inplace=True)\n",
    "Recover_df.drop(\"Total Recovered\", axis=1, inplace=True)\n",
    "#Recover_df.sort_values(by=\"Percent\",ascending=True,axis=0,inplace=True)\n",
    "bar = Recover_df.head(10).plot.barh()"
   ]
  },
  {
   "cell_type": "markdown",
   "id": "cdeed3ab",
   "metadata": {},
   "source": [
    "## 4. Top 10 quốc gia có tổng số ca nhiễm cao nhất thế giới \n",
    "\n",
    "(Trường được chọn: \"Country, Other\" và \"Total Cases\")"
   ]
  },
  {
   "cell_type": "code",
   "execution_count": 195,
   "id": "962c44aa",
   "metadata": {},
   "outputs": [
    {
     "data": {
      "text/plain": [
       "Country, Other\n",
       "USA         83356490\n",
       "India       43091299\n",
       "Brazil      30502501\n",
       "France      28805690\n",
       "Germany     25116363\n",
       "UK          22090523\n",
       "Russia      18206167\n",
       "S. Korea    17395791\n",
       "Italy       16633911\n",
       "Turkey      15037242\n",
       "Name: Total Cases, dtype: int64"
      ]
     },
     "execution_count": 195,
     "metadata": {},
     "output_type": "execute_result"
    }
   ],
   "source": [
    "df_groupbyCase=Data.groupby(\"Country, Other\",axis=0).sum()\n",
    "df_groupbyCase.sort_values(by=\"Total Cases\",ascending=False,axis=0,inplace==True)\n",
    "df_groupbyCase=df_groupbyCase.head(10)\n",
    "df_groupbyCase=df_groupbyCase[\"Total Cases\"]\n",
    "df_groupbyCase"
   ]
  },
  {
   "cell_type": "code",
   "execution_count": 216,
   "id": "47e64da2",
   "metadata": {},
   "outputs": [
    {
     "data": {
      "image/png": "[encoded data removed]",
      "text/plain": [
       "<Figure size 720x432 with 1 Axes>"
      ]
     },
     "metadata": {
      "needs_background": "light"
     },
     "output_type": "display_data"
    }
   ],
   "source": [
    "df_groupbyCase.plot(kind='bar',figsize=(10,6), color = 'red')\n",
    "plt.ylabel(\"Total Cases\")\n",
    "plt.title(\"Top 10 countries with the most Total cases\");"
   ]
  },
  {
   "cell_type": "code",
   "execution_count": 197,
   "id": "8fc701ba",
   "metadata": {},
   "outputs": [
    {
     "data": {
      "image/png": "[encoded data removed]",
      "text/plain": [
       "<Figure size 1080x432 with 1 Axes>"
      ]
     },
     "metadata": {},
     "output_type": "display_data"
    }
   ],
   "source": [
    "explode_list=[0,0,0,0,0,0,0.25,0.2,0.2,0.1]\n",
    "df_groupbyCase.plot(kind='pie',figsize=(15,6),autopct=\"%1.1f%%\",startangle=90,labels=None,pctdistance=1.1\n",
    "                            ,explode=explode_list,colors = sns.color_palette('bright')[0:10])\n",
    "plt.title(\"Top 10 countries with the most Total cases\")\n",
    "plt.axis('equal')\n",
    "plt.legend(labels=df_groupbyCase.index,loc='upper left');"
   ]
  },
  {
   "cell_type": "markdown",
   "id": "041474e9",
   "metadata": {},
   "source": [
    "## 5. Biểu đồ thể hiện tương quan trong các ca nhiễm \n",
    "\n",
    "(Trường được chọn: \"Total Cases\", \"New Cases\", \"Total Deaths\", \"New Deaths\", \"Total Recovered\", \"Active Cases\", \"Serious, Critical\")"
   ]
  },
  {
   "cell_type": "code",
   "execution_count": 201,
   "id": "bc839217",
   "metadata": {},
   "outputs": [
    {
     "data": {
      "text/html": [
       "<div>\n",
       "<style scoped>\n",
       "    .dataframe tbody tr th:only-of-type {\n",
       "        vertical-align: middle;\n",
       "    }\n",
       "\n",
       "    .dataframe tbody tr th {\n",
       "        vertical-align: top;\n",
       "    }\n",
       "\n",
       "    .dataframe thead th {\n",
       "        text-align: right;\n",
       "    }\n",
       "</style>\n",
       "<table border=\"1\" class=\"dataframe\">\n",
       "  <thead>\n",
       "    <tr style=\"text-align: right;\">\n",
       "      <th></th>\n",
       "      <th>Total Cases</th>\n",
       "      <th>New Cases</th>\n",
       "      <th>Total Deaths</th>\n",
       "      <th>Total Recovered</th>\n",
       "      <th>Active Cases</th>\n",
       "      <th>Serious, Critical</th>\n",
       "    </tr>\n",
       "  </thead>\n",
       "  <tbody>\n",
       "    <tr>\n",
       "      <th>Total Cases</th>\n",
       "      <td>1.000000</td>\n",
       "      <td>0.712835</td>\n",
       "      <td>0.852236</td>\n",
       "      <td>0.985483</td>\n",
       "      <td>0.611571</td>\n",
       "      <td>0.458879</td>\n",
       "    </tr>\n",
       "    <tr>\n",
       "      <th>New Cases</th>\n",
       "      <td>0.712835</td>\n",
       "      <td>1.000000</td>\n",
       "      <td>0.593193</td>\n",
       "      <td>0.657445</td>\n",
       "      <td>0.601061</td>\n",
       "      <td>0.288863</td>\n",
       "    </tr>\n",
       "    <tr>\n",
       "      <th>Total Deaths</th>\n",
       "      <td>0.852236</td>\n",
       "      <td>0.593193</td>\n",
       "      <td>1.000000</td>\n",
       "      <td>0.853311</td>\n",
       "      <td>0.462743</td>\n",
       "      <td>0.576947</td>\n",
       "    </tr>\n",
       "    <tr>\n",
       "      <th>Total Recovered</th>\n",
       "      <td>0.985483</td>\n",
       "      <td>0.657445</td>\n",
       "      <td>0.853311</td>\n",
       "      <td>1.000000</td>\n",
       "      <td>0.603662</td>\n",
       "      <td>0.455865</td>\n",
       "    </tr>\n",
       "    <tr>\n",
       "      <th>Active Cases</th>\n",
       "      <td>0.611571</td>\n",
       "      <td>0.601061</td>\n",
       "      <td>0.462743</td>\n",
       "      <td>0.603662</td>\n",
       "      <td>1.000000</td>\n",
       "      <td>0.298065</td>\n",
       "    </tr>\n",
       "    <tr>\n",
       "      <th>Serious, Critical</th>\n",
       "      <td>0.458879</td>\n",
       "      <td>0.288863</td>\n",
       "      <td>0.576947</td>\n",
       "      <td>0.455865</td>\n",
       "      <td>0.298065</td>\n",
       "      <td>1.000000</td>\n",
       "    </tr>\n",
       "  </tbody>\n",
       "</table>\n",
       "</div>"
      ],
      "text/plain": [
       "                   Total Cases  New Cases  Total Deaths  Total Recovered  \\\n",
       "Total Cases           1.000000   0.712835      0.852236         0.985483   \n",
       "New Cases             0.712835   1.000000      0.593193         0.657445   \n",
       "Total Deaths          0.852236   0.593193      1.000000         0.853311   \n",
       "Total Recovered       0.985483   0.657445      0.853311         1.000000   \n",
       "Active Cases          0.611571   0.601061      0.462743         0.603662   \n",
       "Serious, Critical     0.458879   0.288863      0.576947         0.455865   \n",
       "\n",
       "                   Active Cases  Serious, Critical  \n",
       "Total Cases            0.611571           0.458879  \n",
       "New Cases              0.601061           0.288863  \n",
       "Total Deaths           0.462743           0.576947  \n",
       "Total Recovered        0.603662           0.455865  \n",
       "Active Cases           1.000000           0.298065  \n",
       "Serious, Critical      0.298065           1.000000  "
      ]
     },
     "execution_count": 201,
     "metadata": {},
     "output_type": "execute_result"
    }
   ],
   "source": [
    "features = [\"Total Cases\",\"New Cases\",\"Total Deaths\",\"New Deaths\",\"Total Recovered\",\"Active Cases\",\"Serious, Critical\"]\n",
    "case_corr = Data[features].corr()\n",
    "case_corr"
   ]
  },
  {
   "cell_type": "code",
   "execution_count": 202,
   "id": "36741418",
   "metadata": {},
   "outputs": [
    {
     "data": {
      "image/png": "[encoded data removed]",
      "text/plain": [
       "<Figure size 720x720 with 2 Axes>"
      ]
     },
     "metadata": {
      "needs_background": "light"
     },
     "output_type": "display_data"
    }
   ],
   "source": [
    "plt.figure(figsize=(10, 10))\n",
    "sns.heatmap(case_corr,cmap=\"YlGnBu\",vmin=0, annot=True, square=True);"
   ]
  },
  {
   "cell_type": "markdown",
   "id": "9d6f3f78",
   "metadata": {},
   "source": [
    "Liêu có nhiều trường có mối quan hệ nhân quả (cause-effect) với nhau không? Ví dụ như tỉ lệ giữa số ca nhiễm - số ca chết, số ca nhiễm - số ca hồi phục và số ca nghiêm trọng - số ca chết)"
   ]
  },
  {
   "cell_type": "code",
   "execution_count": 211,
   "id": "db15adac",
   "metadata": {},
   "outputs": [
    {
     "data": {
      "image/png": "[encoded data removed]",
      "text/plain": [
       "<Figure size 432x288 with 1 Axes>"
      ]
     },
     "metadata": {
      "needs_background": "light"
     },
     "output_type": "display_data"
    }
   ],
   "source": [
    "sns.regplot(x=\"Total Cases\",y=\"Total Deaths\",data=Data);"
   ]
  },
  {
   "cell_type": "markdown",
   "id": "91281d3b",
   "metadata": {},
   "source": [
    "Ta thấy tỉ lệ giữa số ca mắc so với số ca tử vong không đều nhau, nghĩa là không có nghĩa càng nhiều người nhiễm bệnh thì số người tử vong cũng tăng với tỉ lệ tương tự."
   ]
  },
  {
   "cell_type": "code",
   "execution_count": 212,
   "id": "d3f5f9e0",
   "metadata": {},
   "outputs": [
    {
     "data": {
      "image/png": "[encoded data removed]",
      "text/plain": [
       "<Figure size 432x288 with 1 Axes>"
      ]
     },
     "metadata": {
      "needs_background": "light"
     },
     "output_type": "display_data"
    }
   ],
   "source": [
    "sns.regplot(x=\"Total Cases\",y=\"Total Recovered\",data=Data);"
   ]
  },
  {
   "cell_type": "markdown",
   "id": "0f442d76",
   "metadata": {},
   "source": [
    "Ta thấy tỉ lệ giữa số ca mắc so với số ca hồi phục rất đều nhau, nghĩa là càng có nhiều người nhiễm bệnh thì số người hết bệnh cũng tăng với tỉ lệ gần như tương tự."
   ]
  },
  {
   "cell_type": "code",
   "execution_count": 213,
   "id": "81136e0d",
   "metadata": {},
   "outputs": [
    {
     "data": {
      "image/png": "[encoded data removed]",
      "text/plain": [
       "<Figure size 432x288 with 1 Axes>"
      ]
     },
     "metadata": {
      "needs_background": "light"
     },
     "output_type": "display_data"
    }
   ],
   "source": [
    "sns.regplot(x=\"Total Deaths\",y=\"Serious, Critical\",data=Data);"
   ]
  },
  {
   "cell_type": "markdown",
   "id": "210058fe",
   "metadata": {},
   "source": [
    "Trái ngược với nhận ở trên, tỉ lệ giữa số ca nghiêm trọng/số ca tử vong ngày càng cách xa nhau, tức là nhiều ca nghiêm trọng cũng không hẳn là số ca tử vong cũng tăng tới tỉ lệ tương tự."
   ]
  },
  {
   "cell_type": "code",
   "execution_count": 219,
   "id": "7749b184",
   "metadata": {},
   "outputs": [
    {
     "data": {
      "text/plain": [
       "<Figure size 7200x3600 with 0 Axes>"
      ]
     },
     "metadata": {},
     "output_type": "display_data"
    },
    {
     "data": {
      "image/png": "[encoded data removed]",
      "text/plain": [
       "<Figure size 576x432 with 1 Axes>"
      ]
     },
     "metadata": {
      "needs_background": "light"
     },
     "output_type": "display_data"
    }
   ],
   "source": [
    "plt.figure(figsize=(100,50))\n",
    "case_corr.plot.bar(rot = 0, width = 0.8, figsize=(8,6));"
   ]
  },
  {
   "cell_type": "code",
   "execution_count": null,
   "id": "619964b0",
   "metadata": {},
   "outputs": [],
   "source": []
  }
 ],
 "metadata": {
  "kernelspec": {
   "display_name": "Python 3 (ipykernel)",
   "language": "python",
   "name": "python3"
  },
  "language_info": {
   "codemirror_mode": {
    "name": "ipython",
    "version": 3
   },
   "file_extension": ".py",
   "mimetype": "text/x-python",
   "name": "python",
   "nbconvert_exporter": "python",
   "pygments_lexer": "ipython3",
   "version": "3.8.8"
  }
 },
 "nbformat": 4,
 "nbformat_minor": 5
}
